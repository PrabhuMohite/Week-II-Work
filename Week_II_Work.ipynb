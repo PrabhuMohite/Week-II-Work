{
  "nbformat": 4,
  "nbformat_minor": 0,
  "metadata": {
    "colab": {
      "provenance": []
    },
    "kernelspec": {
      "name": "python3",
      "display_name": "Python 3"
    },
    "language_info": {
      "name": "python"
    }
  },
  "cells": [
    {
      "cell_type": "markdown",
      "source": [
        "SECTION A"
      ],
      "metadata": {
        "id": "7FX1UdGXfkcg"
      }
    },
    {
      "cell_type": "markdown",
      "source": [
        "1)Create a function that takes three integer arguments (a, b, c) and returns the amount of integers which are of equal value.\n"
      ],
      "metadata": {
        "id": "KqWoPfi4TYWd"
      }
    },
    {
      "cell_type": "code",
      "execution_count": null,
      "metadata": {
        "colab": {
          "base_uri": "https://localhost:8080/"
        },
        "id": "iuMTkE0XTEYP",
        "outputId": "687f2aa8-77b4-411f-a618-8dbb8991cc8a"
      },
      "outputs": [
        {
          "output_type": "stream",
          "name": "stdout",
          "text": [
            "3\n",
            "0\n"
          ]
        }
      ],
      "source": [
        "def sum(x, y, z):\n",
        "  if x == y or y == z or z == x:\n",
        "    sum = 3\n",
        "  else:\n",
        "    sum = 0\n",
        "  return sum\n",
        "print(sum(5, 5, 5))\n",
        "print(sum(3, 4, 1))"
      ]
    },
    {
      "cell_type": "markdown",
      "source": [
        "2)Write a function that converts a dictionary into a list of keys-values tuples."
      ],
      "metadata": {
        "id": "4GgIbCJjTf7b"
      }
    },
    {
      "cell_type": "code",
      "source": [
        "def DtoLoT(dict):\n",
        "    dict = {'om':33, 'ajay':63, 'chetan':25, 'vedant':45}\n",
        "    list = [(k, v) for k, v in dict.items()]\n",
        "\n",
        "    list.sort(key = lambda x: x[0])\n",
        "    return list\n",
        "\n",
        "print(DtoLoT(dict))"
      ],
      "metadata": {
        "colab": {
          "base_uri": "https://localhost:8080/"
        },
        "id": "8m446TFkTeYE",
        "outputId": "7c7d256b-1a4c-4828-8755-291b7f9165f8"
      },
      "execution_count": null,
      "outputs": [
        {
          "output_type": "stream",
          "name": "stdout",
          "text": [
            "[('ajay', 63), ('chetan', 25), ('om', 33), ('vedant', 45)]\n"
          ]
        }
      ]
    },
    {
      "cell_type": "markdown",
      "source": [
        "3)Write a function that creates a dictionary with each (key, value) pair being the (lower case, upper case) versions of a letter, respectively."
      ],
      "metadata": {
        "id": "7iYckuHZUspN"
      }
    },
    {
      "cell_type": "code",
      "source": [
        "def function2(list):\n",
        " list = [\"a\", \"b\", \"c\", \"d\"]\n",
        " b = dict((i, i.upper()) for i in list)\n",
        " return b\n",
        "    \n",
        "print(function2(list))"
      ],
      "metadata": {
        "colab": {
          "base_uri": "https://localhost:8080/"
        },
        "id": "umIMN5rXUw2d",
        "outputId": "9db01e73-ea46-4df6-c3ea-fd92e7de25cb"
      },
      "execution_count": null,
      "outputs": [
        {
          "output_type": "stream",
          "name": "stdout",
          "text": [
            "{'a': 'A', 'b': 'B', 'c': 'C', 'd': 'D'}\n"
          ]
        }
      ]
    },
    {
      "cell_type": "markdown",
      "source": [
        "4)Write a function, that replaces all vowels in a string with a specified vowel."
      ],
      "metadata": {
        "id": "ejXokCiSVK81"
      }
    },
    {
      "cell_type": "code",
      "source": [
        "def replaceVowels(str, K):\n",
        "    vowels = 'aeiou'\n",
        "    for i in vowels:\n",
        "        str = str.replace(i, K)\n",
        "    return str\n",
        "input_str = \"Python is computer language\"\n",
        "K = \"e\"\n",
        "print(\"Input string =\", input_str)\n",
        "print(\"Specified vowel =\", K)\n",
        "print(\"After replacing =\", replaceVowels(input_str, K))"
      ],
      "metadata": {
        "colab": {
          "base_uri": "https://localhost:8080/"
        },
        "id": "ne0e5HPSVKsc",
        "outputId": "679466e4-8f60-4f72-8929-c6eed21719bd"
      },
      "execution_count": null,
      "outputs": [
        {
          "output_type": "stream",
          "name": "stdout",
          "text": [
            "Input string = Python is computer language\n",
            "Specified vowel = e\n",
            "After replacing = Pythen es cempeter lengeege\n"
          ]
        }
      ]
    },
    {
      "cell_type": "markdown",
      "source": [
        "5)Create a function that takes a string as input and capitalizes a letter if its ASCII code is even and returns its lower case version if its ASCII code is odd."
      ],
      "metadata": {
        "id": "L5mOBTGIWwav"
      }
    },
    {
      "cell_type": "code",
      "source": [
        "def Python(sy):\n",
        "  ab = []\n",
        "  for index, c in enumerate(sy):\n",
        "    if index % 2 == 0:\n",
        "      ab.append(c.upper())\n",
        "    else:\n",
        "      ab.append(c.lower())\n",
        "  return '' .join(ab)\n",
        "print(Python(\"Python is computer language:\"))"
      ],
      "metadata": {
        "id": "7niJiC6IW0h4",
        "colab": {
          "base_uri": "https://localhost:8080/"
        },
        "outputId": "fda6a20d-a262-4c0e-d0d3-691ceb8d4ca9"
      },
      "execution_count": 2,
      "outputs": [
        {
          "output_type": "stream",
          "name": "stdout",
          "text": [
            "PyThOn iS CoMpUtEr lAnGuAgE:\n"
          ]
        }
      ]
    },
    {
      "cell_type": "markdown",
      "source": [
        "SECTION B\n",
        "\n"
      ],
      "metadata": {
        "id": "vAGQiNoTXvjY"
      }
    },
    {
      "cell_type": "code",
      "source": [
        "def fact(n):\n",
        "  fact=1\n",
        "  for i in range(1,n+1):\n",
        "    fact=fact*i\n",
        "  print(fact)  \n",
        "fact(5)"
      ],
      "metadata": {
        "colab": {
          "base_uri": "https://localhost:8080/"
        },
        "id": "W1Nj698oYJm5",
        "outputId": "a209776e-8baa-4f18-ee61-269f45bacf52"
      },
      "execution_count": null,
      "outputs": [
        {
          "output_type": "stream",
          "name": "stdout",
          "text": [
            "120\n"
          ]
        }
      ]
    },
    {
      "cell_type": "code",
      "source": [
        "def rotate(a,d):\n",
        "    n=len(a)\n",
        "    a[:]=a[d:n]+a[0:d]\n",
        "    return a\n",
        "a = [3,4,5,6,8,9,1]\n",
        "print(\"Rotated list is\")\n",
        "print(rotate(a,1))"
      ],
      "metadata": {
        "id": "vZfRD-YTYf6m",
        "colab": {
          "base_uri": "https://localhost:8080/"
        },
        "outputId": "8d09ea2a-3328-4e65-8625-7c1e968e43cd"
      },
      "execution_count": 5,
      "outputs": [
        {
          "output_type": "stream",
          "name": "stdout",
          "text": [
            "Rotated list is\n",
            "[4, 5, 6, 8, 9, 1, 3]\n"
          ]
        }
      ]
    },
    {
      "cell_type": "code",
      "source": [
        "colors={}\n",
        "def insert(a):\n",
        "  if a in colors:\n",
        "    colors[a]+=1\n",
        "  else:\n",
        "    colors[a]=1  \n",
        "insert('Red')\n",
        "insert('green')\n",
        "insert('Blue')\n",
        "insert('White')\n",
        "insert('Red')\n",
        "print(len(colors))   "
      ],
      "metadata": {
        "colab": {
          "base_uri": "https://localhost:8080/"
        },
        "id": "TPZXgKFEen0S",
        "outputId": "5c4a55d2-d8f6-4acd-a942-c05129f47945"
      },
      "execution_count": 14,
      "outputs": [
        {
          "output_type": "stream",
          "name": "stdout",
          "text": [
            "4\n"
          ]
        }
      ]
    },
    {
      "cell_type": "code",
      "source": [
        "def sumlist(list):\n",
        "    sum=0\n",
        "    for i in range(len(list)):\n",
        "        sum = sum+list[i]\n",
        "    return sum\n",
        "list = [20,40,60]\n",
        "print(list)\n",
        "print(\"sum of list: \",sumlist(list))"
      ],
      "metadata": {
        "colab": {
          "base_uri": "https://localhost:8080/"
        },
        "id": "dwzeDfuKjKV0",
        "outputId": "3ec0d7b7-4a13-4105-aa0a-4a9377bc26c4"
      },
      "execution_count": 18,
      "outputs": [
        {
          "output_type": "stream",
          "name": "stdout",
          "text": [
            "[20, 40, 60]\n",
            "sum of list:  120\n"
          ]
        }
      ]
    },
    {
      "cell_type": "code",
      "source": [
        "def mul_list(list) :         \n",
        "    product = 1\n",
        "    for i in list:\n",
        "         product = product * i\n",
        "    return product     \n",
        "list1 = [5,6,7,8]\n",
        "print(list1)\n",
        "print(\"product: \") \n",
        "print(mul_list(list1))"
      ],
      "metadata": {
        "colab": {
          "base_uri": "https://localhost:8080/"
        },
        "id": "lGZ5pz1_kINk",
        "outputId": "fd733398-9d61-4ac4-8e8c-f4ef901c35db"
      },
      "execution_count": 20,
      "outputs": [
        {
          "output_type": "stream",
          "name": "stdout",
          "text": [
            "[5, 6, 7, 8]\n",
            "product: \n",
            "1680\n"
          ]
        }
      ]
    }
  ]
}